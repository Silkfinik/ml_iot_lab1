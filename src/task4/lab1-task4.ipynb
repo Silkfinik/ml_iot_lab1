{
 "cells": [
  {
   "cell_type": "markdown",
   "id": "11dc3419",
   "metadata": {},
   "source": [
    "# Пример для задания 4 лабораторной работы 1."
   ]
  },
  {
   "cell_type": "markdown",
   "id": "4bdbfec8",
   "metadata": {},
   "source": [
    "## Скачивание файлов с wget и curl\n",
    "\n",
    "1. Установите утилиты `wget` и `curl` в Вашей операционной системе, если не установлены.\n",
    "2. С помощью утилиты `wget`, как в примерах ниже, скачайте сведения о запасах готовой продукции за разные периоды. Используйте ссылку для скачивания со страницы с запасами готовой продукции, которую можно получить при копировании URL-адреса для кнопки *Скачать*."
   ]
  },
  {
   "cell_type": "markdown",
   "id": "c91b8d2c",
   "metadata": {},
   "source": [
    "`wget`  утилита, используя для загрузки данных с внешних источников.\n",
    "\n",
    "Пример команды с переименованием получаемого файла\n",
    "```bash\n",
    "wget -O data.zip ftp://URL/1MB.zip\n",
    "```\n",
    "\n",
    "Пример команды с переименованием файла и обновлением метки времени согласно исходному файлу:\n",
    "```bash\n",
    "wget -o data.zip -N ftp://URL/1MB.zip\n",
    "```\n",
    "\n",
    "Пример команды с отключением проверки сертификата:\n",
    "```bash\n",
    "wget --no-check-certificate https://URL/somedata.txt\n",
    "```\n",
    "\n",
    "При вызове команды из блока кода в блокноте необходимо использовать символ `!` перед командой как в примере ниже:"
   ]
  },
  {
   "cell_type": "markdown",
   "id": "53c1cb06",
   "metadata": {},
   "source": [
    "### Примеры с wget\n",
    "\n",
    "#### Пример 1"
   ]
  },
  {
   "cell_type": "code",
   "execution_count": 2,
   "id": "d86d76bd",
   "metadata": {},
   "outputs": [
    {
     "name": "stdout",
     "output_type": "stream",
     "text": [
      "--2025-09-07 14:12:27--  https://raw.githubusercontent.com/maryiad/ml-example/main/data/Zapasy_produkcii_2016_2017.csv\n",
      "Loaded CA certificate '/etc/ssl/certs/ca-certificates.crt'\n",
      "Resolving raw.githubusercontent.com (raw.githubusercontent.com)... 185.199.108.133, 185.199.109.133, 185.199.110.133, ...\n",
      "Connecting to raw.githubusercontent.com (raw.githubusercontent.com)|185.199.108.133|:443... connected.\n",
      "HTTP request sent, awaiting response... 200 OK\n",
      "Length: 3572 (3.5K) [text/plain]\n",
      "Saving to: ‘Zapasy_produkcii_2016_2017.csv’\n",
      "\n",
      "Zapasy_produkcii_20 100%[===================>]   3.49K  --.-KB/s    in 0s      \n",
      "\n",
      "2025-09-07 14:12:28 (60.9 MB/s) - ‘Zapasy_produkcii_2016_2017.csv’ saved [3572/3572]\n",
      "\n"
     ]
    }
   ],
   "source": [
    "!wget https://raw.githubusercontent.com/maryiad/ml-example/main/data/Zapasy_produkcii_2016_2017.csv"
   ]
  },
  {
   "cell_type": "markdown",
   "id": "0f6b40a8",
   "metadata": {},
   "source": [
    "#### Пример 2"
   ]
  },
  {
   "cell_type": "code",
   "execution_count": 3,
   "id": "08d0fd82",
   "metadata": {},
   "outputs": [
    {
     "name": "stdout",
     "output_type": "stream",
     "text": [
      "--2025-09-07 14:12:35--  https://raw.githubusercontent.com/maryiad/ml-example/main/data/Zapasy_produkcii_2016_2017.csv\n",
      "Loaded CA certificate '/etc/ssl/certs/ca-certificates.crt'\n",
      "Resolving raw.githubusercontent.com (raw.githubusercontent.com)... 185.199.110.133, 185.199.111.133, 185.199.108.133, ...\n",
      "Connecting to raw.githubusercontent.com (raw.githubusercontent.com)|185.199.110.133|:443... connected.\n",
      "HTTP request sent, awaiting response... 200 OK\n",
      "Length: 3572 (3.5K) [text/plain]\n",
      "Saving to: ‘data.csv’\n",
      "\n",
      "data.csv            100%[===================>]   3.49K  --.-KB/s    in 0s      \n",
      "\n",
      "2025-09-07 14:12:35 (23.4 MB/s) - ‘data.csv’ saved [3572/3572]\n",
      "\n"
     ]
    }
   ],
   "source": [
    "!wget -O data.csv --no-check-certificate https://raw.githubusercontent.com/maryiad/ml-example/main/data/Zapasy_produkcii_2016_2017.csv"
   ]
  },
  {
   "cell_type": "markdown",
   "id": "5ed17851",
   "metadata": {},
   "source": [
    "### Визуализация данных"
   ]
  },
  {
   "cell_type": "code",
   "execution_count": 4,
   "id": "d844631f",
   "metadata": {},
   "outputs": [],
   "source": [
    "import pandas as pd"
   ]
  },
  {
   "cell_type": "code",
   "execution_count": 5,
   "id": "7fbcbb1e",
   "metadata": {},
   "outputs": [],
   "source": [
    "dataF = pd.read_csv('Zapasy_produkcii_2016_2017.csv')"
   ]
  },
  {
   "cell_type": "markdown",
   "id": "3bf45b4e",
   "metadata": {},
   "source": [
    "#### Визуализация данных на примере запросов продукции за 2016-2017 гг."
   ]
  },
  {
   "cell_type": "code",
   "execution_count": 6,
   "id": "ae4e0057",
   "metadata": {},
   "outputs": [
    {
     "data": {
      "text/html": [
       "<div>\n",
       "<style scoped>\n",
       "    .dataframe tbody tr th:only-of-type {\n",
       "        vertical-align: middle;\n",
       "    }\n",
       "\n",
       "    .dataframe tbody tr th {\n",
       "        vertical-align: top;\n",
       "    }\n",
       "\n",
       "    .dataframe thead th {\n",
       "        text-align: right;\n",
       "    }\n",
       "</style>\n",
       "<table border=\"1\" class=\"dataframe\">\n",
       "  <thead>\n",
       "    <tr style=\"text-align: right;\">\n",
       "      <th></th>\n",
       "      <th>territory</th>\n",
       "      <th>economyBranches</th>\n",
       "      <th>2016</th>\n",
       "      <th>2017</th>\n",
       "    </tr>\n",
       "  </thead>\n",
       "  <tbody>\n",
       "    <tr>\n",
       "      <th>0</th>\n",
       "      <td>Брестская область</td>\n",
       "      <td>Промышленность</td>\n",
       "      <td>3659,7</td>\n",
       "      <td>3850,5</td>\n",
       "    </tr>\n",
       "    <tr>\n",
       "      <th>1</th>\n",
       "      <td>Витебская область</td>\n",
       "      <td>Промышленность</td>\n",
       "      <td>494,9</td>\n",
       "      <td>509,1</td>\n",
       "    </tr>\n",
       "    <tr>\n",
       "      <th>2</th>\n",
       "      <td>Гомельская область</td>\n",
       "      <td>Промышленность</td>\n",
       "      <td>327,8</td>\n",
       "      <td>365,5</td>\n",
       "    </tr>\n",
       "    <tr>\n",
       "      <th>3</th>\n",
       "      <td>Гродненская область</td>\n",
       "      <td>Промышленность</td>\n",
       "      <td>311,2</td>\n",
       "      <td>350,1</td>\n",
       "    </tr>\n",
       "    <tr>\n",
       "      <th>4</th>\n",
       "      <td>г. Минск</td>\n",
       "      <td>Промышленность</td>\n",
       "      <td>455,5</td>\n",
       "      <td>521,2</td>\n",
       "    </tr>\n",
       "  </tbody>\n",
       "</table>\n",
       "</div>"
      ],
      "text/plain": [
       "             territory economyBranches    2016    2017\n",
       "0    Брестская область  Промышленность  3659,7  3850,5\n",
       "1    Витебская область  Промышленность   494,9   509,1\n",
       "2   Гомельская область  Промышленность   327,8   365,5\n",
       "3  Гродненская область  Промышленность   311,2   350,1\n",
       "4             г. Минск  Промышленность   455,5   521,2"
      ]
     },
     "execution_count": 6,
     "metadata": {},
     "output_type": "execute_result"
    }
   ],
   "source": [
    "dataF.head()"
   ]
  },
  {
   "cell_type": "markdown",
   "id": "c46b0f05",
   "metadata": {},
   "source": [
    "#### Визуализация данных на примере запросов продукции за 2000-2009 гг. (пример 1)"
   ]
  },
  {
   "cell_type": "code",
   "execution_count": 7,
   "id": "77750a02",
   "metadata": {},
   "outputs": [
    {
     "data": {
      "text/html": [
       "<div>\n",
       "<style scoped>\n",
       "    .dataframe tbody tr th:only-of-type {\n",
       "        vertical-align: middle;\n",
       "    }\n",
       "\n",
       "    .dataframe tbody tr th {\n",
       "        vertical-align: top;\n",
       "    }\n",
       "\n",
       "    .dataframe thead th {\n",
       "        text-align: right;\n",
       "    }\n",
       "</style>\n",
       "<table border=\"1\" class=\"dataframe\">\n",
       "  <thead>\n",
       "    <tr style=\"text-align: right;\">\n",
       "      <th></th>\n",
       "      <th>territory</th>\n",
       "      <th>economyBranches</th>\n",
       "      <th>2016</th>\n",
       "      <th>2017</th>\n",
       "    </tr>\n",
       "  </thead>\n",
       "  <tbody>\n",
       "    <tr>\n",
       "      <th>0</th>\n",
       "      <td>Брестская область</td>\n",
       "      <td>Промышленность</td>\n",
       "      <td>3659,7</td>\n",
       "      <td>3850,5</td>\n",
       "    </tr>\n",
       "    <tr>\n",
       "      <th>1</th>\n",
       "      <td>Витебская область</td>\n",
       "      <td>Промышленность</td>\n",
       "      <td>494,9</td>\n",
       "      <td>509,1</td>\n",
       "    </tr>\n",
       "    <tr>\n",
       "      <th>2</th>\n",
       "      <td>Гомельская область</td>\n",
       "      <td>Промышленность</td>\n",
       "      <td>327,8</td>\n",
       "      <td>365,5</td>\n",
       "    </tr>\n",
       "    <tr>\n",
       "      <th>3</th>\n",
       "      <td>Гродненская область</td>\n",
       "      <td>Промышленность</td>\n",
       "      <td>311,2</td>\n",
       "      <td>350,1</td>\n",
       "    </tr>\n",
       "    <tr>\n",
       "      <th>4</th>\n",
       "      <td>г. Минск</td>\n",
       "      <td>Промышленность</td>\n",
       "      <td>455,5</td>\n",
       "      <td>521,2</td>\n",
       "    </tr>\n",
       "  </tbody>\n",
       "</table>\n",
       "</div>"
      ],
      "text/plain": [
       "             territory economyBranches    2016    2017\n",
       "0    Брестская область  Промышленность  3659,7  3850,5\n",
       "1    Витебская область  Промышленность   494,9   509,1\n",
       "2   Гомельская область  Промышленность   327,8   365,5\n",
       "3  Гродненская область  Промышленность   311,2   350,1\n",
       "4             г. Минск  Промышленность   455,5   521,2"
      ]
     },
     "execution_count": 7,
     "metadata": {},
     "output_type": "execute_result"
    }
   ],
   "source": [
    "dataS = pd.read_csv(\"Zapasy_produkcii_2016_2017.csv\")\n",
    "dataS.head()"
   ]
  },
  {
   "cell_type": "markdown",
   "id": "e2244120",
   "metadata": {},
   "source": [
    "### Скачивание с помощью curl и визуализация"
   ]
  },
  {
   "cell_type": "code",
   "execution_count": 8,
   "id": "5c138c4d",
   "metadata": {},
   "outputs": [
    {
     "name": "stdout",
     "output_type": "stream",
     "text": [
      "  % Total    % Received % Xferd  Average Speed   Time    Time     Time  Current\n",
      "                                 Dload  Upload   Total   Spent    Left  Speed\n",
      "100  2128  100  2128    0     0   4653      0 --:--:-- --:--:-- --:--:--  4656\n"
     ]
    }
   ],
   "source": [
    "!curl -o samplefile.csv https://raw.githubusercontent.com/maryiad/ml-example/main/data/Zapasy_produkcii_2000_2009.csv"
   ]
  },
  {
   "cell_type": "markdown",
   "id": "f7a321cb",
   "metadata": {},
   "source": [
    "#### Визуализация данных на примере запросов продукции за 2000-2009 гг. (пример 2)"
   ]
  },
  {
   "cell_type": "code",
   "execution_count": 9,
   "id": "d0ce9ae2",
   "metadata": {},
   "outputs": [
    {
     "data": {
      "text/html": [
       "<div>\n",
       "<style scoped>\n",
       "    .dataframe tbody tr th:only-of-type {\n",
       "        vertical-align: middle;\n",
       "    }\n",
       "\n",
       "    .dataframe tbody tr th {\n",
       "        vertical-align: top;\n",
       "    }\n",
       "\n",
       "    .dataframe thead th {\n",
       "        text-align: right;\n",
       "    }\n",
       "</style>\n",
       "<table border=\"1\" class=\"dataframe\">\n",
       "  <thead>\n",
       "    <tr style=\"text-align: right;\">\n",
       "      <th></th>\n",
       "      <th>territory</th>\n",
       "      <th>economyBranches</th>\n",
       "      <th>2000</th>\n",
       "      <th>2001</th>\n",
       "      <th>2002</th>\n",
       "      <th>2003</th>\n",
       "      <th>2004</th>\n",
       "      <th>2005</th>\n",
       "      <th>2006</th>\n",
       "      <th>2007</th>\n",
       "      <th>2008</th>\n",
       "      <th>2009</th>\n",
       "    </tr>\n",
       "  </thead>\n",
       "  <tbody>\n",
       "    <tr>\n",
       "      <th>0</th>\n",
       "      <td>Брестская область</td>\n",
       "      <td>Промышленность</td>\n",
       "      <td>45096</td>\n",
       "      <td>79871</td>\n",
       "      <td>110418</td>\n",
       "      <td>172616</td>\n",
       "      <td>213923</td>\n",
       "      <td>232622</td>\n",
       "      <td>271186</td>\n",
       "      <td>386450</td>\n",
       "      <td>515204</td>\n",
       "      <td>570303</td>\n",
       "    </tr>\n",
       "    <tr>\n",
       "      <th>1</th>\n",
       "      <td>Витебская область</td>\n",
       "      <td>Промышленность</td>\n",
       "      <td>44753</td>\n",
       "      <td>79845</td>\n",
       "      <td>122775</td>\n",
       "      <td>143626</td>\n",
       "      <td>182935</td>\n",
       "      <td>248013</td>\n",
       "      <td>244190</td>\n",
       "      <td>298380</td>\n",
       "      <td>485347</td>\n",
       "      <td>404500</td>\n",
       "    </tr>\n",
       "    <tr>\n",
       "      <th>2</th>\n",
       "      <td>Гомельская область</td>\n",
       "      <td>Промышленность</td>\n",
       "      <td>53889</td>\n",
       "      <td>109230</td>\n",
       "      <td>138368</td>\n",
       "      <td>158192</td>\n",
       "      <td>216528</td>\n",
       "      <td>327949</td>\n",
       "      <td>357803</td>\n",
       "      <td>431234</td>\n",
       "      <td>563776</td>\n",
       "      <td>538487</td>\n",
       "    </tr>\n",
       "    <tr>\n",
       "      <th>3</th>\n",
       "      <td>Гродненская область</td>\n",
       "      <td>Промышленность</td>\n",
       "      <td>34040</td>\n",
       "      <td>65748</td>\n",
       "      <td>90248</td>\n",
       "      <td>98507</td>\n",
       "      <td>139022</td>\n",
       "      <td>166376</td>\n",
       "      <td>245326</td>\n",
       "      <td>335841</td>\n",
       "      <td>515213</td>\n",
       "      <td>576451</td>\n",
       "    </tr>\n",
       "    <tr>\n",
       "      <th>4</th>\n",
       "      <td>г. Минск</td>\n",
       "      <td>Промышленность</td>\n",
       "      <td>118765</td>\n",
       "      <td>223875</td>\n",
       "      <td>286673</td>\n",
       "      <td>356509</td>\n",
       "      <td>472380</td>\n",
       "      <td>532759</td>\n",
       "      <td>621840</td>\n",
       "      <td>739471</td>\n",
       "      <td>1300925</td>\n",
       "      <td>1714369</td>\n",
       "    </tr>\n",
       "  </tbody>\n",
       "</table>\n",
       "</div>"
      ],
      "text/plain": [
       "             territory economyBranches    2000    2001    2002    2003  \\\n",
       "0    Брестская область  Промышленность   45096   79871  110418  172616   \n",
       "1    Витебская область  Промышленность   44753   79845  122775  143626   \n",
       "2   Гомельская область  Промышленность   53889  109230  138368  158192   \n",
       "3  Гродненская область  Промышленность   34040   65748   90248   98507   \n",
       "4             г. Минск  Промышленность  118765  223875  286673  356509   \n",
       "\n",
       "     2004    2005    2006    2007     2008     2009  \n",
       "0  213923  232622  271186  386450   515204   570303  \n",
       "1  182935  248013  244190  298380   485347   404500  \n",
       "2  216528  327949  357803  431234   563776   538487  \n",
       "3  139022  166376  245326  335841   515213   576451  \n",
       "4  472380  532759  621840  739471  1300925  1714369  "
      ]
     },
     "execution_count": 9,
     "metadata": {},
     "output_type": "execute_result"
    }
   ],
   "source": [
    "dataTh = pd.read_csv(\"samplefile.csv\")\n",
    "\n",
    "dataTh.head()"
   ]
  },
  {
   "cell_type": "markdown",
   "id": "af3aa23c",
   "metadata": {},
   "source": [
    "## Пример вставки изображения\n",
    "\n",
    "Данный пример иллюстрирует вставку изображения по внешней ссылке из репозитория github на языке markdown:\n",
    "\n",
    "```\n",
    "![Копия экрана](https://github.com/maryiad/ml-example/blob/main/img/open-data-img.png?raw=true)\n",
    "```\n",
    "\n",
    "![Копия экрана](https://github.com/maryiad/ml-example/blob/main/img/open-data-img.png?raw=true)"
   ]
  },
  {
   "cell_type": "markdown",
   "id": "c49a38b7",
   "metadata": {},
   "source": [
    "Данный пример показывает использование импорта изображения и его отображение:"
   ]
  },
  {
   "cell_type": "code",
   "execution_count": 1,
   "id": "43b14b0e",
   "metadata": {},
   "outputs": [
    {
     "data": {
      "text/html": [
       "<img src=\"https://raw.githubusercontent.com/maryiad/ml-example/main/img/open-data-img.png\"/>"
      ],
      "text/plain": [
       "<IPython.core.display.Image object>"
      ]
     },
     "execution_count": 1,
     "metadata": {},
     "output_type": "execute_result"
    }
   ],
   "source": [
    "from IPython.display import Image\n",
    "Image(url='https://raw.githubusercontent.com/maryiad/ml-example/main/img/open-data-img.png')"
   ]
  }
 ],
 "metadata": {
  "kernelspec": {
   "display_name": "ml-labs",
   "language": "python",
   "name": "python3"
  },
  "language_info": {
   "codemirror_mode": {
    "name": "ipython",
    "version": 3
   },
   "file_extension": ".py",
   "mimetype": "text/x-python",
   "name": "python",
   "nbconvert_exporter": "python",
   "pygments_lexer": "ipython3",
   "version": "3.12.11"
  }
 },
 "nbformat": 4,
 "nbformat_minor": 5
}
