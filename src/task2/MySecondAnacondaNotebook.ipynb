{
 "cells": [
  {
   "cell_type": "code",
   "execution_count": 1,
   "id": "73604bc9-9a96-4d23-b43d-ba5d20882fb5",
   "metadata": {},
   "outputs": [],
   "source": [
    "message = \"Hello, Jupyter Lab!\""
   ]
  },
  {
   "cell_type": "code",
   "execution_count": 2,
   "id": "e652849a-c0f5-4093-b62e-282f90add6ad",
   "metadata": {},
   "outputs": [
    {
     "name": "stdout",
     "output_type": "stream",
     "text": [
      "Hello, Jupyter Lab!\n"
     ]
    }
   ],
   "source": [
    "print(message)"
   ]
  },
  {
   "cell_type": "code",
   "execution_count": null,
   "id": "3e166400-ca63-49a9-a656-1259eb723493",
   "metadata": {},
   "outputs": [],
   "source": []
  }
 ],
 "metadata": {
  "kernelspec": {
   "display_name": "Python 3 (ipykernel)",
   "language": "python",
   "name": "python3"
  },
  "language_info": {
   "codemirror_mode": {
    "name": "ipython",
    "version": 3
   },
   "file_extension": ".py",
   "mimetype": "text/x-python",
   "name": "python",
   "nbconvert_exporter": "python",
   "pygments_lexer": "ipython3",
   "version": "3.12.11"
  }
 },
 "nbformat": 4,
 "nbformat_minor": 5
}
