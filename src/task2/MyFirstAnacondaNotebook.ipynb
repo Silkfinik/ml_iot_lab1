{
 "cells": [
  {
   "cell_type": "code",
   "execution_count": 1,
   "id": "706868d1",
   "metadata": {},
   "outputs": [],
   "source": [
    "message = \"Hello, Jupyter Notebook!\""
   ]
  },
  {
   "cell_type": "code",
   "execution_count": 2,
   "id": "891f130c",
   "metadata": {},
   "outputs": [
    {
     "name": "stdout",
     "output_type": "stream",
     "text": [
      "Hello, Jupyter Notebook!\n"
     ]
    }
   ],
   "source": [
    "print(message)"
   ]
  }
 ],
 "metadata": {
  "kernelspec": {
   "display_name": "ml-labs",
   "language": "python",
   "name": "python3"
  },
  "language_info": {
   "codemirror_mode": {
    "name": "ipython",
    "version": 3
   },
   "file_extension": ".py",
   "mimetype": "text/x-python",
   "name": "python",
   "nbconvert_exporter": "python",
   "pygments_lexer": "ipython3",
   "version": "3.12.11"
  }
 },
 "nbformat": 4,
 "nbformat_minor": 5
}
